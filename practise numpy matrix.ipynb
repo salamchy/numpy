{
 "cells": [
  {
   "cell_type": "markdown",
   "id": "c7319383",
   "metadata": {},
   "source": [
    "# Solving Questions of NumPy Matrix"
   ]
  },
  {
   "cell_type": "markdown",
   "id": "920720ad",
   "metadata": {},
   "source": [
    "**Get the maximum value from given matrix**"
   ]
  },
  {
   "cell_type": "code",
   "execution_count": 1,
   "id": "01458a3f",
   "metadata": {},
   "outputs": [],
   "source": [
    "import numpy as np"
   ]
  },
  {
   "cell_type": "code",
   "execution_count": 2,
   "id": "871e6557",
   "metadata": {},
   "outputs": [
    {
     "data": {
      "text/plain": [
       "array([[0, 1, 2],\n",
       "       [3, 4, 5]])"
      ]
     },
     "execution_count": 2,
     "metadata": {},
     "output_type": "execute_result"
    }
   ],
   "source": [
    "a = np.arange(6).reshape(2,3)\n",
    "a"
   ]
  },
  {
   "cell_type": "code",
   "execution_count": 3,
   "id": "705da333",
   "metadata": {},
   "outputs": [
    {
     "data": {
      "text/plain": [
       "5"
      ]
     },
     "execution_count": 3,
     "metadata": {},
     "output_type": "execute_result"
    }
   ],
   "source": [
    "a.max()"
   ]
  },
  {
   "cell_type": "markdown",
   "id": "514662ee",
   "metadata": {},
   "source": [
    "**Get the minimum value from given matrix**"
   ]
  },
  {
   "cell_type": "code",
   "execution_count": 4,
   "id": "0a045ec0",
   "metadata": {},
   "outputs": [],
   "source": [
    "a1 = np.arange(6,22,3).reshape(3,2)"
   ]
  },
  {
   "cell_type": "code",
   "execution_count": 5,
   "id": "6ce27098",
   "metadata": {},
   "outputs": [
    {
     "data": {
      "text/plain": [
       "6"
      ]
     },
     "execution_count": 5,
     "metadata": {},
     "output_type": "execute_result"
    }
   ],
   "source": [
    "a1.min()"
   ]
  },
  {
   "cell_type": "markdown",
   "id": "2916fc7b",
   "metadata": {},
   "source": [
    "**Find the number of rows and columns of a given matrix using NumPy**"
   ]
  },
  {
   "cell_type": "code",
   "execution_count": 6,
   "id": "13600f44",
   "metadata": {},
   "outputs": [
    {
     "data": {
      "text/plain": [
       "array([[1, 5, 3],\n",
       "       [6, 3, 7],\n",
       "       [9, 6, 4]])"
      ]
     },
     "execution_count": 6,
     "metadata": {},
     "output_type": "execute_result"
    }
   ],
   "source": [
    "a2 = np.array([[1,5,3],[6,3,7],[9,6,4]])\n",
    "a2"
   ]
  },
  {
   "cell_type": "code",
   "execution_count": 7,
   "id": "e93af0f8",
   "metadata": {},
   "outputs": [
    {
     "data": {
      "text/plain": [
       "(3, 3)"
      ]
     },
     "execution_count": 7,
     "metadata": {},
     "output_type": "execute_result"
    }
   ],
   "source": [
    "a2.shape"
   ]
  },
  {
   "cell_type": "markdown",
   "id": "827c1f43",
   "metadata": {},
   "source": [
    "**Find the sum of values in a matrix**"
   ]
  },
  {
   "cell_type": "code",
   "execution_count": 8,
   "id": "114ededb",
   "metadata": {},
   "outputs": [
    {
     "data": {
      "text/plain": [
       "array([[0, 1, 2],\n",
       "       [3, 4, 5],\n",
       "       [6, 7, 8]])"
      ]
     },
     "execution_count": 8,
     "metadata": {},
     "output_type": "execute_result"
    }
   ],
   "source": [
    "a3 = np.arange(9).reshape(3,3)\n",
    "a3"
   ]
  },
  {
   "cell_type": "code",
   "execution_count": 9,
   "id": "5d51f77a",
   "metadata": {},
   "outputs": [
    {
     "data": {
      "text/plain": [
       "36"
      ]
     },
     "execution_count": 9,
     "metadata": {},
     "output_type": "execute_result"
    }
   ],
   "source": [
    "a3.sum()"
   ]
  },
  {
   "cell_type": "code",
   "execution_count": 10,
   "id": "3fe3bf06",
   "metadata": {},
   "outputs": [
    {
     "data": {
      "text/plain": [
       "array([ 3, 12, 21])"
      ]
     },
     "execution_count": 10,
     "metadata": {},
     "output_type": "execute_result"
    }
   ],
   "source": [
    "a3.sum(axis=1)"
   ]
  },
  {
   "cell_type": "code",
   "execution_count": 11,
   "id": "74581fd3",
   "metadata": {},
   "outputs": [
    {
     "data": {
      "text/plain": [
       "array([ 9, 12, 15])"
      ]
     },
     "execution_count": 11,
     "metadata": {},
     "output_type": "execute_result"
    }
   ],
   "source": [
    "a3.sum(axis=0)"
   ]
  },
  {
   "cell_type": "markdown",
   "id": "a4f5230a",
   "metadata": {},
   "source": [
    "**Calculate the sum of the diagonal elements of a NumPy array**"
   ]
  },
  {
   "cell_type": "code",
   "execution_count": 12,
   "id": "d6363e74",
   "metadata": {},
   "outputs": [],
   "source": [
    "a4 = np.arange(9).reshape(3,3)"
   ]
  },
  {
   "cell_type": "code",
   "execution_count": 13,
   "id": "fc8d947e",
   "metadata": {},
   "outputs": [],
   "source": [
    "a6 = np.arange(10,35,3).reshape(3,3)"
   ]
  },
  {
   "cell_type": "code",
   "execution_count": 14,
   "id": "6461c3d6",
   "metadata": {},
   "outputs": [],
   "source": [
    "add = np.diagonal(a4)"
   ]
  },
  {
   "cell_type": "code",
   "execution_count": 15,
   "id": "44f26080",
   "metadata": {},
   "outputs": [
    {
     "data": {
      "text/plain": [
       "12"
      ]
     },
     "execution_count": 15,
     "metadata": {},
     "output_type": "execute_result"
    }
   ],
   "source": [
    "add.sum()"
   ]
  },
  {
   "cell_type": "markdown",
   "id": "c6044167",
   "metadata": {},
   "source": [
    "**multiplying Matrices in Python**"
   ]
  },
  {
   "cell_type": "code",
   "execution_count": 16,
   "id": "03fd8659",
   "metadata": {},
   "outputs": [],
   "source": [
    "a5 = np.arange(1,10).reshape(3,3)"
   ]
  },
  {
   "cell_type": "code",
   "execution_count": 17,
   "id": "43809d44",
   "metadata": {},
   "outputs": [],
   "source": [
    "a6 = np.arange(10,35,3).reshape(3,3)"
   ]
  },
  {
   "cell_type": "code",
   "execution_count": 18,
   "id": "cad3a805",
   "metadata": {},
   "outputs": [
    {
     "data": {
      "text/plain": [
       "array([[132, 150, 168],\n",
       "       [303, 348, 393],\n",
       "       [474, 546, 618]])"
      ]
     },
     "execution_count": 18,
     "metadata": {},
     "output_type": "execute_result"
    }
   ],
   "source": [
    "a9 = np.dot(a5,a6)\n",
    "a9"
   ]
  },
  {
   "cell_type": "markdown",
   "id": "32778ef6",
   "metadata": {},
   "source": [
    "**Adding and Subtracting**"
   ]
  },
  {
   "cell_type": "code",
   "execution_count": 19,
   "id": "10b6ec5a",
   "metadata": {},
   "outputs": [
    {
     "data": {
      "text/plain": [
       "array([[1, 2, 3],\n",
       "       [4, 5, 6],\n",
       "       [7, 8, 9]])"
      ]
     },
     "execution_count": 19,
     "metadata": {},
     "output_type": "execute_result"
    }
   ],
   "source": [
    "a5 = np.arange(1,10).reshape(3,3)\n",
    "a5"
   ]
  },
  {
   "cell_type": "code",
   "execution_count": 20,
   "id": "6209f296",
   "metadata": {},
   "outputs": [
    {
     "data": {
      "text/plain": [
       "array([[10, 13, 16],\n",
       "       [19, 22, 25],\n",
       "       [28, 31, 34]])"
      ]
     },
     "execution_count": 20,
     "metadata": {},
     "output_type": "execute_result"
    }
   ],
   "source": [
    "a6 = np.arange(10,35,3).reshape(3,3)\n",
    "a6"
   ]
  },
  {
   "cell_type": "code",
   "execution_count": 21,
   "id": "e18db185",
   "metadata": {},
   "outputs": [
    {
     "data": {
      "text/plain": [
       "array([[11, 15, 19],\n",
       "       [23, 27, 31],\n",
       "       [35, 39, 43]])"
      ]
     },
     "execution_count": 21,
     "metadata": {},
     "output_type": "execute_result"
    }
   ],
   "source": [
    "a7 = np.add(a5,a6)\n",
    "a7"
   ]
  },
  {
   "cell_type": "code",
   "execution_count": 22,
   "id": "1c20e5d9",
   "metadata": {},
   "outputs": [
    {
     "data": {
      "text/plain": [
       "array([[ 9, 11, 13],\n",
       "       [15, 17, 19],\n",
       "       [21, 23, 25]])"
      ]
     },
     "execution_count": 22,
     "metadata": {},
     "output_type": "execute_result"
    }
   ],
   "source": [
    "a8 = np.subtract(a6,a5)\n",
    "a8"
   ]
  },
  {
   "cell_type": "markdown",
   "id": "c403da62",
   "metadata": {},
   "source": [
    "**Calculating Determinant of a 3X3 Numpy matrix**"
   ]
  },
  {
   "cell_type": "code",
   "execution_count": 23,
   "id": "82ac9b23",
   "metadata": {},
   "outputs": [
    {
     "data": {
      "text/plain": [
       "array([[ 3,  6,  9],\n",
       "       [12, 15, 18],\n",
       "       [21, 24, 27]])"
      ]
     },
     "execution_count": 23,
     "metadata": {},
     "output_type": "execute_result"
    }
   ],
   "source": [
    "b1 = np.arange(3,28,3).reshape(3,3)\n",
    "b1"
   ]
  },
  {
   "cell_type": "code",
   "execution_count": 24,
   "id": "f3e5f090",
   "metadata": {},
   "outputs": [
    {
     "data": {
      "text/plain": [
       "0.0"
      ]
     },
     "execution_count": 24,
     "metadata": {},
     "output_type": "execute_result"
    }
   ],
   "source": [
    "b2 = np.linalg.det(b1)\n",
    "b2"
   ]
  },
  {
   "cell_type": "code",
   "execution_count": 25,
   "id": "5684ba35",
   "metadata": {},
   "outputs": [
    {
     "data": {
      "text/plain": [
       "array([[55, 25, 15],\n",
       "       [30, 44,  2],\n",
       "       [11, 45, 77]])"
      ]
     },
     "execution_count": 25,
     "metadata": {},
     "output_type": "execute_result"
    }
   ],
   "source": [
    "n_array = np.array([[55, 25, 15],\n",
    "                    [30, 44, 2],\n",
    "                    [11, 45, 77]])\n",
    "n_array"
   ]
  },
  {
   "cell_type": "code",
   "execution_count": 26,
   "id": "b2ce3402",
   "metadata": {},
   "outputs": [
    {
     "data": {
      "text/plain": [
       "137180.0000000001"
      ]
     },
     "execution_count": 26,
     "metadata": {},
     "output_type": "execute_result"
    }
   ],
   "source": [
    "np.linalg.det(n_array)"
   ]
  },
  {
   "cell_type": "code",
   "execution_count": null,
   "id": "577d3885",
   "metadata": {},
   "outputs": [],
   "source": []
  },
  {
   "cell_type": "code",
   "execution_count": null,
   "id": "8caab7f5",
   "metadata": {},
   "outputs": [],
   "source": []
  }
 ],
 "metadata": {
  "kernelspec": {
   "display_name": "Python 3 (ipykernel)",
   "language": "python",
   "name": "python3"
  },
  "language_info": {
   "codemirror_mode": {
    "name": "ipython",
    "version": 3
   },
   "file_extension": ".py",
   "mimetype": "text/x-python",
   "name": "python",
   "nbconvert_exporter": "python",
   "pygments_lexer": "ipython3",
   "version": "3.10.5"
  }
 },
 "nbformat": 4,
 "nbformat_minor": 5
}
