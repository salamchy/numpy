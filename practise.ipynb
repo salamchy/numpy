{
 "cells": [
  {
   "cell_type": "markdown",
   "id": "fe931d81",
   "metadata": {},
   "source": [
    "# Question from geeksforgeeks"
   ]
  },
  {
   "cell_type": "markdown",
   "id": "1158467f",
   "metadata": {},
   "source": [
    "**How to create an empty and a full NumPy array?**"
   ]
  },
  {
   "cell_type": "code",
   "execution_count": 1,
   "id": "700b3640",
   "metadata": {},
   "outputs": [],
   "source": [
    "import numpy as np"
   ]
  },
  {
   "cell_type": "code",
   "execution_count": 3,
   "id": "ca7a341a",
   "metadata": {},
   "outputs": [
    {
     "data": {
      "text/plain": [
       "array([[0., 0., 0.],\n",
       "       [0., 0., 0.]])"
      ]
     },
     "execution_count": 3,
     "metadata": {},
     "output_type": "execute_result"
    }
   ],
   "source": [
    "a = np.empty((2,3))\n",
    "a"
   ]
  },
  {
   "cell_type": "code",
   "execution_count": 4,
   "id": "f2263092",
   "metadata": {},
   "outputs": [
    {
     "data": {
      "text/plain": [
       "array([[9, 9, 9],\n",
       "       [9, 9, 9]])"
      ]
     },
     "execution_count": 4,
     "metadata": {},
     "output_type": "execute_result"
    }
   ],
   "source": [
    "b = np.full([2,3],9)\n",
    "b"
   ]
  },
  {
   "cell_type": "markdown",
   "id": "8115fbc4",
   "metadata": {},
   "source": [
    "**Create a Numpy array filled with all zeros**"
   ]
  },
  {
   "cell_type": "code",
   "execution_count": 5,
   "id": "fa434881",
   "metadata": {},
   "outputs": [
    {
     "data": {
      "text/plain": [
       "array([[0., 0., 0.],\n",
       "       [0., 0., 0.],\n",
       "       [0., 0., 0.]])"
      ]
     },
     "execution_count": 5,
     "metadata": {},
     "output_type": "execute_result"
    }
   ],
   "source": [
    "a1 = np.zeros((3,3))\n",
    "a1"
   ]
  },
  {
   "cell_type": "markdown",
   "id": "ad5588b8",
   "metadata": {},
   "source": [
    "**Create a Numpy array filled with all ones**"
   ]
  },
  {
   "cell_type": "code",
   "execution_count": 6,
   "id": "892d5ed6",
   "metadata": {},
   "outputs": [
    {
     "data": {
      "text/plain": [
       "array([[1., 1., 1., 1.],\n",
       "       [1., 1., 1., 1.],\n",
       "       [1., 1., 1., 1.]])"
      ]
     },
     "execution_count": 6,
     "metadata": {},
     "output_type": "execute_result"
    }
   ],
   "source": [
    "a2 = np.ones((3,4))\n",
    "a2"
   ]
  },
  {
   "cell_type": "code",
   "execution_count": 7,
   "id": "449285b8",
   "metadata": {},
   "outputs": [
    {
     "data": {
      "text/plain": [
       "2"
      ]
     },
     "execution_count": 7,
     "metadata": {},
     "output_type": "execute_result"
    }
   ],
   "source": [
    "a2.ndim"
   ]
  },
  {
   "cell_type": "code",
   "execution_count": 8,
   "id": "e8ccbf15",
   "metadata": {},
   "outputs": [
    {
     "data": {
      "text/plain": [
       "(3, 4)"
      ]
     },
     "execution_count": 8,
     "metadata": {},
     "output_type": "execute_result"
    }
   ],
   "source": [
    "a2.shape"
   ]
  },
  {
   "cell_type": "markdown",
   "id": "03039878",
   "metadata": {},
   "source": [
    "**Check whether a Numpy array contains a specified row**"
   ]
  },
  {
   "cell_type": "code",
   "execution_count": 11,
   "id": "cf99b406",
   "metadata": {},
   "outputs": [
    {
     "data": {
      "text/plain": [
       "array([[ 0,  1,  2],\n",
       "       [ 3,  4,  5],\n",
       "       [ 6,  7,  8],\n",
       "       [ 9, 10, 11]])"
      ]
     },
     "execution_count": 11,
     "metadata": {},
     "output_type": "execute_result"
    }
   ],
   "source": [
    "a3 = np.arange(12).reshape(4,3)\n",
    "a3"
   ]
  },
  {
   "cell_type": "code",
   "execution_count": 14,
   "id": "a95bab20",
   "metadata": {},
   "outputs": [
    {
     "data": {
      "text/plain": [
       "True"
      ]
     },
     "execution_count": 14,
     "metadata": {},
     "output_type": "execute_result"
    }
   ],
   "source": [
    "([0,1,2])in a3.tolist()"
   ]
  },
  {
   "cell_type": "code",
   "execution_count": 15,
   "id": "8bd7d9a5",
   "metadata": {},
   "outputs": [
    {
     "data": {
      "text/plain": [
       "False"
      ]
     },
     "execution_count": 15,
     "metadata": {},
     "output_type": "execute_result"
    }
   ],
   "source": [
    "([2,3,4,5]) in a3.tolist()"
   ]
  },
  {
   "cell_type": "markdown",
   "id": "886183ef",
   "metadata": {},
   "source": [
    "**How to Remove rows in Numpy array that contains non-numeric values?**"
   ]
  },
  {
   "cell_type": "code",
   "execution_count": 17,
   "id": "ca9cef15",
   "metadata": {},
   "outputs": [
    {
     "data": {
      "text/plain": [
       "array([[ 1.,  2.,  3.],\n",
       "       [ 4., nan, nan],\n",
       "       [nan, nan,  9.]])"
      ]
     },
     "execution_count": 17,
     "metadata": {},
     "output_type": "execute_result"
    }
   ],
   "source": [
    "a4 = np.array([[1,2,3],[4,np.nan,np.nan],[np.nan,np.nan,9]])\n",
    "a4"
   ]
  },
  {
   "cell_type": "code",
   "execution_count": 19,
   "id": "bf19162a",
   "metadata": {},
   "outputs": [
    {
     "data": {
      "text/plain": [
       "array([[1., 2., 3.]])"
      ]
     },
     "execution_count": 19,
     "metadata": {},
     "output_type": "execute_result"
    }
   ],
   "source": [
    "a4[~np.isnan(a4).any(axis=1)]"
   ]
  },
  {
   "cell_type": "code",
   "execution_count": 20,
   "id": "495afff3",
   "metadata": {},
   "outputs": [
    {
     "data": {
      "text/plain": [
       "2"
      ]
     },
     "execution_count": 20,
     "metadata": {},
     "output_type": "execute_result"
    }
   ],
   "source": [
    "a4.ndim"
   ]
  },
  {
   "cell_type": "code",
   "execution_count": 21,
   "id": "f191521d",
   "metadata": {},
   "outputs": [
    {
     "data": {
      "text/plain": [
       "9"
      ]
     },
     "execution_count": 21,
     "metadata": {},
     "output_type": "execute_result"
    }
   ],
   "source": [
    "a4.size"
   ]
  },
  {
   "cell_type": "code",
   "execution_count": 22,
   "id": "353b193a",
   "metadata": {},
   "outputs": [
    {
     "data": {
      "text/plain": [
       "array([[ 1.,  2.,  3.],\n",
       "       [ 4., nan, nan],\n",
       "       [nan, nan,  9.]])"
      ]
     },
     "execution_count": 22,
     "metadata": {},
     "output_type": "execute_result"
    }
   ],
   "source": [
    "a4"
   ]
  },
  {
   "cell_type": "code",
   "execution_count": 23,
   "id": "8685d4c4",
   "metadata": {},
   "outputs": [
    {
     "data": {
      "text/plain": [
       "array([[ 2.,  5.,  7.],\n",
       "       [ 3.,  7., nan],\n",
       "       [ 8.,  0.,  3.]])"
      ]
     },
     "execution_count": 23,
     "metadata": {},
     "output_type": "execute_result"
    }
   ],
   "source": [
    "a5 = np.array([[2,5,7],[3,7,np.nan],[8,0,3]])\n",
    "a5"
   ]
  },
  {
   "cell_type": "code",
   "execution_count": 25,
   "id": "1e02b64d",
   "metadata": {},
   "outputs": [
    {
     "data": {
      "text/plain": [
       "array([[2., 5., 7.],\n",
       "       [8., 0., 3.]])"
      ]
     },
     "execution_count": 25,
     "metadata": {},
     "output_type": "execute_result"
    }
   ],
   "source": [
    "a5[~np.isnan(a5).any(axis=1)]"
   ]
  },
  {
   "cell_type": "markdown",
   "id": "78285615",
   "metadata": {},
   "source": [
    "**Remove single-dimensional entries from the shape of an array**"
   ]
  },
  {
   "cell_type": "code",
   "execution_count": 26,
   "id": "faa60aec",
   "metadata": {},
   "outputs": [],
   "source": [
    "a6 = np.arange(1,25,2).reshape(4,3)"
   ]
  },
  {
   "cell_type": "code",
   "execution_count": 28,
   "id": "1ac46e28",
   "metadata": {},
   "outputs": [
    {
     "data": {
      "text/plain": [
       "array([[ 1,  3,  5],\n",
       "       [ 7,  9, 11],\n",
       "       [13, 15, 17],\n",
       "       [19, 21, 23]])"
      ]
     },
     "execution_count": 28,
     "metadata": {},
     "output_type": "execute_result"
    }
   ],
   "source": [
    "a7 = np.squeeze(a6)\n",
    "a7"
   ]
  },
  {
   "cell_type": "code",
   "execution_count": 30,
   "id": "101637c3",
   "metadata": {},
   "outputs": [],
   "source": [
    "a8 = np.arange(26,50,2).reshape(3,4)"
   ]
  },
  {
   "cell_type": "code",
   "execution_count": 31,
   "id": "bfe6f2c8",
   "metadata": {},
   "outputs": [
    {
     "data": {
      "text/plain": [
       "array([[26, 28, 30, 32],\n",
       "       [34, 36, 38, 40],\n",
       "       [42, 44, 46, 48]])"
      ]
     },
     "execution_count": 31,
     "metadata": {},
     "output_type": "execute_result"
    }
   ],
   "source": [
    "a9 = np.squeeze(a8)\n",
    "a9"
   ]
  },
  {
   "cell_type": "markdown",
   "id": "0bf40f25",
   "metadata": {},
   "source": [
    "**Find the number of occurrences of a sequence in a NumPy array**"
   ]
  },
  {
   "cell_type": "code",
   "execution_count": 32,
   "id": "98a2d766",
   "metadata": {},
   "outputs": [],
   "source": [
    "a9 = np.array([[1,2,3],[2,3,2],[5,6,2]])"
   ]
  },
  {
   "cell_type": "code",
   "execution_count": 33,
   "id": "603f5766",
   "metadata": {},
   "outputs": [
    {
     "data": {
      "text/plain": [
       "4"
      ]
     },
     "execution_count": 33,
     "metadata": {},
     "output_type": "execute_result"
    }
   ],
   "source": [
    "output = repr(a9).count(\"2\")\n",
    "output"
   ]
  },
  {
   "cell_type": "markdown",
   "id": "1902bb16",
   "metadata": {},
   "source": [
    "**Combining a one and a two-dimensional NumPy Array**"
   ]
  },
  {
   "cell_type": "code",
   "execution_count": 39,
   "id": "b2142992",
   "metadata": {},
   "outputs": [],
   "source": [
    "b1 = np.arange(1,4).reshape(3,1)"
   ]
  },
  {
   "cell_type": "code",
   "execution_count": 41,
   "id": "002d19f0",
   "metadata": {},
   "outputs": [],
   "source": [
    "b2 = np.arange(5,17).reshape(3,4)"
   ]
  },
  {
   "cell_type": "code",
   "execution_count": 42,
   "id": "46513d49",
   "metadata": {},
   "outputs": [
    {
     "name": "stdout",
     "output_type": "stream",
     "text": [
      "1 5\n",
      "1 6\n",
      "1 7\n",
      "1 8\n",
      "2 9\n",
      "2 10\n",
      "2 11\n",
      "2 12\n",
      "3 13\n",
      "3 14\n",
      "3 15\n",
      "3 16\n"
     ]
    }
   ],
   "source": [
    "for x,y in np.nditer([b1,b2]):\n",
    "    print(x,y)"
   ]
  },
  {
   "cell_type": "markdown",
   "id": "7d4cbeb3",
   "metadata": {},
   "source": [
    "**How to compare two NumPy arrays?**"
   ]
  },
  {
   "cell_type": "code",
   "execution_count": 44,
   "id": "dc0e0c99",
   "metadata": {},
   "outputs": [],
   "source": [
    "b3 = np.arange(1,7).reshape(2,3)"
   ]
  },
  {
   "cell_type": "code",
   "execution_count": 47,
   "id": "d23224b0",
   "metadata": {},
   "outputs": [],
   "source": [
    "b4 = np.arange(8,14).reshape(2,3)"
   ]
  },
  {
   "cell_type": "code",
   "execution_count": 48,
   "id": "ec93d570",
   "metadata": {},
   "outputs": [
    {
     "data": {
      "text/plain": [
       "array([[False, False, False],\n",
       "       [False, False, False]])"
      ]
     },
     "execution_count": 48,
     "metadata": {},
     "output_type": "execute_result"
    }
   ],
   "source": [
    "bool = b3 > b4\n",
    "bool"
   ]
  },
  {
   "cell_type": "code",
   "execution_count": null,
   "id": "ff42e3ce",
   "metadata": {},
   "outputs": [],
   "source": []
  }
 ],
 "metadata": {
  "kernelspec": {
   "display_name": "Python 3 (ipykernel)",
   "language": "python",
   "name": "python3"
  },
  "language_info": {
   "codemirror_mode": {
    "name": "ipython",
    "version": 3
   },
   "file_extension": ".py",
   "mimetype": "text/x-python",
   "name": "python",
   "nbconvert_exporter": "python",
   "pygments_lexer": "ipython3",
   "version": "3.10.5"
  }
 },
 "nbformat": 4,
 "nbformat_minor": 5
}
